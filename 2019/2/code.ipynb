{
 "nbformat": 4,
 "nbformat_minor": 2,
 "metadata": {
  "language_info": {
   "name": "python",
   "codemirror_mode": {
    "name": "ipython",
    "version": 3
   },
   "version": "3.7.5"
  },
  "orig_nbformat": 2,
  "file_extension": ".py",
  "mimetype": "text/x-python",
  "name": "python",
  "npconvert_exporter": "python",
  "pygments_lexer": "ipython3",
  "version": 3
 },
 "cells": [
  {
   "cell_type": "code",
   "execution_count": 1,
   "metadata": {},
   "outputs": [],
   "source": [
    "year,day = 2019,2\n",
    "\n",
    "file = str(str(year)+\"\\\\\"+str(day)+\"\\\\input.txt\")\n",
    "with open(file, 'r') as input_file:\n",
    "    input = [int(x) for x in input_file.read().split(\",\")]"
   ]
  },
  {
   "cell_type": "code",
   "execution_count": 7,
   "metadata": {},
   "outputs": [],
   "source": [
    "def repair(lst,start=0,input=[12,2]):\n",
    "    if start == 0:\n",
    "        lst[start+1],lst[start+2] = input[0],input[1]\n",
    "    if lst[start] == 1:\n",
    "        # Make Addition\n",
    "        lst[lst[start+3]] = lst[lst[start+1]] + lst[lst[start+2]]\n",
    "        return repair(lst,start+4)\n",
    "    elif lst[start] == 2:\n",
    "        # Make Multiplication\n",
    "        lst[lst[start+3]] = lst[lst[start+1]] * lst[lst[start+2]]\n",
    "        return repair(lst,start+4)\n",
    "    elif lst[start] == 99:\n",
    "        # Stop programm\n",
    "        return lst[0]"
   ]
  },
  {
   "cell_type": "code",
   "execution_count": 8,
   "metadata": {},
   "outputs": [],
   "source": [
    "in1 = input[:]"
   ]
  },
  {
   "cell_type": "code",
   "execution_count": 9,
   "metadata": {},
   "outputs": [
    {
     "name": "stdout",
     "output_type": "stream",
     "text": "Part One :  5290681\n"
    }
   ],
   "source": [
    "print(\"Part One : \",str(repair(in1)))"
   ]
  },
  {
   "cell_type": "code",
   "execution_count": 10,
   "metadata": {},
   "outputs": [],
   "source": [
    "for x1 in range(100):\n",
    "    for x2 in range(100):\n",
    "        in2 = input[:]\n",
    "        if repair(in2,0,[x1,x2]) == 19690720:\n",
    "            part2 = 100*x1+x2\n",
    "            break"
   ]
  },
  {
   "cell_type": "code",
   "execution_count": 11,
   "metadata": {},
   "outputs": [
    {
     "name": "stdout",
     "output_type": "stream",
     "text": "Part Two :  5741\n"
    }
   ],
   "source": [
    "print(\"Part Two : \",str(part2))"
   ]
  },
  {
   "cell_type": "code",
   "execution_count": null,
   "metadata": {},
   "outputs": [],
   "source": []
  }
 ]
}
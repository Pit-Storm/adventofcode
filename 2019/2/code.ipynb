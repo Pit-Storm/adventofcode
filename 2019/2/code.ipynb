{
 "nbformat": 4,
 "nbformat_minor": 2,
 "metadata": {
  "language_info": {
   "name": "python",
   "codemirror_mode": {
    "name": "ipython",
    "version": 3
   },
   "version": "3.7.5"
  },
  "orig_nbformat": 2,
  "file_extension": ".py",
  "mimetype": "text/x-python",
  "name": "python",
  "npconvert_exporter": "python",
  "pygments_lexer": "ipython3",
  "version": 3
 },
 "cells": [
  {
   "cell_type": "code",
   "execution_count": 14,
   "metadata": {},
   "outputs": [],
   "source": [
    "import os\n",
    "from init import last_advent_of_code_year as year\n",
    "from init import last_advent_of_code_day as day\n",
    "\n",
    "path = str(os.getcwd()+\"\\\\\"+str(year)+\"\\\\\"+str(day)+\"\\\\\")\n",
    "with open(path+\"input.txt\", 'r') as input_file:\n",
    "    input = input_file.read()\n",
    "\n",
    "input_lst = list(input.split(\",\"))\n",
    "for idx in range(len(input_lst)):\n",
    "    input_lst[idx] = int(input_lst[idx])"
   ]
  },
  {
   "cell_type": "code",
   "execution_count": 19,
   "metadata": {},
   "outputs": [
    {
     "data": {
      "text/plain": "4"
     },
     "execution_count": 19,
     "metadata": {},
     "output_type": "execute_result"
    }
   ],
   "source": []
  },
  {
   "cell_type": "code",
   "metadata": {},
   "outputs": [],
   "source": []
  }
 ]
}
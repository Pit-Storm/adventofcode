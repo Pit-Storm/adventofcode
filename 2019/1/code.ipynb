{
 "nbformat": 4,
 "nbformat_minor": 2,
 "metadata": {
  "language_info": {
   "name": "python",
   "codemirror_mode": {
    "name": "ipython",
    "version": 3
   },
   "version": "3.7.5"
  },
  "orig_nbformat": 2,
  "file_extension": ".py",
  "mimetype": "text/x-python",
  "name": "python",
  "npconvert_exporter": "python",
  "pygments_lexer": "ipython3",
  "version": 3
 },
 "cells": [
  {
   "cell_type": "code",
   "execution_count": 1,
   "metadata": {},
   "outputs": [
    {
     "name": "stdout",
     "output_type": "stream",
     "text": "Setup will download data and create working directories and files for adventofcode.\nYear 2019\n    Day 1\nSetup complete : adventofcode working directories and files initialized with success.\n"
    }
   ],
   "source": [
    "import os\n",
    "from init import last_advent_of_code_year as year\n",
    "from init import last_advent_of_code_day as day"
   ]
  },
  {
   "cell_type": "code",
   "execution_count": 2,
   "metadata": {},
   "outputs": [],
   "source": [
    "path = str(os.getcwd()+\"\\\\\"+str(year)+\"\\\\\"+str(day)+\"\\\\\")\n",
    "with open(path+\"input.txt\", 'r') as input_file:\n",
    "    input = input_file.read()"
   ]
  },
  {
   "cell_type": "code",
   "execution_count": 3,
   "metadata": {},
   "outputs": [],
   "source": [
    "def convert(challenge):\n",
    "    li = list(challenge.split(\"\\n\"))\n",
    "    return li\n",
    "\n",
    "input_lst = convert(input)"
   ]
  },
  {
   "cell_type": "code",
   "execution_count": 4,
   "metadata": {},
   "outputs": [],
   "source": [
    "def fuel(mass):\n",
    "    value = (mass // 3) - 2\n",
    "    return int(value)\n"
   ]
  },
  {
   "cell_type": "code",
   "execution_count": 5,
   "metadata": {},
   "outputs": [],
   "source": [
    "sum_1 = 0\n",
    "\n",
    "for module in input_lst:\n",
    "    sum_1 += fuel(int(module))"
   ]
  },
  {
   "cell_type": "code",
   "execution_count": 6,
   "metadata": {},
   "outputs": [
    {
     "name": "stdout",
     "output_type": "stream",
     "text": "Part One : 3271994\n"
    }
   ],
   "source": [
    "print(\"Part One : \" + str(sum_1))"
   ]
  },
  {
   "cell_type": "code",
   "execution_count": 7,
   "metadata": {},
   "outputs": [],
   "source": [
    "def fuel_fuel(mass,fuel=0):\n",
    "    fuel4mass = int((mass // 3) - 2)\n",
    "    if fuel4mass < 0:\n",
    "        return int(fuel)\n",
    "    fuel += fuel4mass\n",
    "    return fuel_fuel(fuel4mass,fuel)"
   ]
  },
  {
   "cell_type": "code",
   "execution_count": 8,
   "metadata": {},
   "outputs": [],
   "source": [
    "sum_2 = 0\n",
    "\n",
    "for module in input_lst:\n",
    "    sum_2 += fuel_fuel(int(module))"
   ]
  },
  {
   "cell_type": "code",
   "execution_count": 9,
   "metadata": {},
   "outputs": [
    {
     "name": "stdout",
     "output_type": "stream",
     "text": "Part Two : 4905116\n"
    }
   ],
   "source": [
    "print(\"Part Two : \" + str(sum_2))"
   ]
  },
  {
   "cell_type": "code",
   "metadata": {},
   "outputs": [],
   "source": []
  }
 ]
}